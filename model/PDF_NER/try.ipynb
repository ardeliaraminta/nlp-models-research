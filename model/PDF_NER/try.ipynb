{
 "cells": [
  {
   "cell_type": "code",
   "execution_count": null,
   "metadata": {},
   "outputs": [],
   "source": [
    "#PDF Parser"
   ]
  },
  {
   "cell_type": "code",
   "execution_count": 7,
   "metadata": {},
   "outputs": [],
   "source": [
    "import re \n",
    "import PyPDF2\n",
    "import spacy\n",
    "\n",
    "class Parser():\n",
    "    def __init__(self, file_path):\n",
    "        self.file_path = file_path\n",
    "\n",
    "    def pdf_reader(self) -> str:\n",
    "        text = ''\n",
    "        opener = open(self.file_path,'rb')\n",
    "        pdf = PyPDF2.PdfFileReader(opener)\n",
    "        page = pdf.numPages\n",
    "        for i in range(0, page):\n",
    "            text+= pdf.getPage(i).extractText() + '\\n'\n",
    "        text = ''.join(text.replace(u'\\xa0',' ').strip())\n",
    "        page_remove = r\"\\d{1,3} of \\d{1,3}\"\n",
    "        page_remove_pattern = re.compile(page_remove, re.IGNORECASE)\n",
    "        text = re.sub(page_remove_pattern, '', text)\n",
    "\n",
    "        return text\n",
    "\n"
   ]
  },
  {
   "cell_type": "code",
   "execution_count": null,
   "metadata": {},
   "outputs": [],
   "source": [
    "#extract just based on regex pattern\n",
    "\n",
    "def extractor(self) -> set:\n",
    "    text = self.pdf_reader()\n",
    "    label = ['NUMBER']\n",
    "    nlp = spacy.load('en_core_web_lg')\n",
    "    doc = nlp(text)\n",
    "\n",
    "    \n",
    "    num_pattern = re.compile(r'')\n",
    "    extraction = set((ent.text) for ent in doc.ents if ent.label in label)\n",
    "    filtered_extract = set(num_extract for num_extract in extraction if not num_pattern(num_extract))"
   ]
  },
  {
   "cell_type": "code",
   "execution_count": null,
   "metadata": {},
   "outputs": [],
   "source": []
  }
 ],
 "metadata": {
  "kernelspec": {
   "display_name": "Python 3",
   "language": "python",
   "name": "python3"
  },
  "language_info": {
   "codemirror_mode": {
    "name": "ipython",
    "version": 3
   },
   "file_extension": ".py",
   "mimetype": "text/x-python",
   "name": "python",
   "nbconvert_exporter": "python",
   "pygments_lexer": "ipython3",
   "version": "3.10.0rc1"
  },
  "orig_nbformat": 4
 },
 "nbformat": 4,
 "nbformat_minor": 2
}
