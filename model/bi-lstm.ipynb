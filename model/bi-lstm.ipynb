{
 "cells": [
  {
   "cell_type": "code",
   "execution_count": 1,
   "metadata": {},
   "outputs": [
    {
     "name": "stderr",
     "output_type": "stream",
     "text": [
      "[nltk_data] Downloading package stopwords to\n",
      "[nltk_data]     C:\\Users\\User\\AppData\\Roaming\\nltk_data...\n",
      "[nltk_data]   Package stopwords is already up-to-date!\n"
     ]
    }
   ],
   "source": [
    "import pandas as pd\n",
    "from sklearn.model_selection import train_test_split\n",
    "from sklearn.feature_extraction.text import TfidfVectorizer\n",
    "from sklearn.naive_bayes import MultinomialNB\n",
    "from sklearn.metrics import accuracy_score, confusion_matrix\n",
    "import matplotlib.pyplot as plt\n",
    "import nltk\n",
    "nltk.download('stopwords')\n",
    "from nltk.tokenize import word_tokenize, sent_tokenize\n",
    "from nltk.stem import WordNetLemmatizer\n",
    "from nltk.corpus import stopwords\n",
    "from string import punctuation\n",
    "import re\n",
    "from collections import Counter\n",
    "from nltk import ngrams\n",
    "import tensorflow as tf\n",
    "from tensorflow import keras\n",
    "from keras.models import Sequential\n",
    "from keras.layers import Dense, Dropout, LSTM "
   ]
  },
  {
   "cell_type": "code",
   "execution_count": 2,
   "metadata": {},
   "outputs": [],
   "source": [
    "from tensorflow.keras.models import Sequential\n",
    "from tensorflow.keras.layers import LSTM, GRU, Dense, Embedding, Dropout, GlobalAveragePooling1D, Flatten, SpatialDropout1D, Bidirectional\n",
    "import tensorflow as tf\n",
    "from tensorflow.keras.preprocessing.text import Tokenizer\n",
    "from tensorflow.keras.preprocessing.sequence import pad_sequences\n",
    "from tensorflow.keras.callbacks import EarlyStopping "
   ]
  },
  {
   "cell_type": "code",
   "execution_count": 41,
   "metadata": {},
   "outputs": [
    {
     "data": {
      "text/html": [
       "<div>\n",
       "<style scoped>\n",
       "    .dataframe tbody tr th:only-of-type {\n",
       "        vertical-align: middle;\n",
       "    }\n",
       "\n",
       "    .dataframe tbody tr th {\n",
       "        vertical-align: top;\n",
       "    }\n",
       "\n",
       "    .dataframe thead th {\n",
       "        text-align: right;\n",
       "    }\n",
       "</style>\n",
       "<table border=\"1\" class=\"dataframe\">\n",
       "  <thead>\n",
       "    <tr style=\"text-align: right;\">\n",
       "      <th></th>\n",
       "      <th>Title</th>\n",
       "      <th>Abstract</th>\n",
       "    </tr>\n",
       "  </thead>\n",
       "  <tbody>\n",
       "    <tr>\n",
       "      <th>0</th>\n",
       "      <td>Prevention and management of peri-implant dise...</td>\n",
       "      <td>As more patients choose dental implants as the...</td>\n",
       "    </tr>\n",
       "    <tr>\n",
       "      <th>1</th>\n",
       "      <td>Diabetes, Edentulism, and Cognitive Decline: A...</td>\n",
       "      <td>Diabetes mellitus (DM) is a recognized risk fa...</td>\n",
       "    </tr>\n",
       "    <tr>\n",
       "      <th>2</th>\n",
       "      <td>Tooth Loss and Caries Experience of Elderly Ch...</td>\n",
       "      <td>Risk factors associated with tooth loss have b...</td>\n",
       "    </tr>\n",
       "    <tr>\n",
       "      <th>3</th>\n",
       "      <td>Clinical outcomes of full-arch immediate fixed...</td>\n",
       "      <td>To retrospectively assess clinical and radiogr...</td>\n",
       "    </tr>\n",
       "    <tr>\n",
       "      <th>4</th>\n",
       "      <td>Periodontal diseases assessed by average bone ...</td>\n",
       "      <td>Periodontal disease often develops in patients...</td>\n",
       "    </tr>\n",
       "  </tbody>\n",
       "</table>\n",
       "</div>"
      ],
      "text/plain": [
       "                                               Title  \\\n",
       "0  Prevention and management of peri-implant dise...   \n",
       "1  Diabetes, Edentulism, and Cognitive Decline: A...   \n",
       "2  Tooth Loss and Caries Experience of Elderly Ch...   \n",
       "3  Clinical outcomes of full-arch immediate fixed...   \n",
       "4  Periodontal diseases assessed by average bone ...   \n",
       "\n",
       "                                            Abstract  \n",
       "0  As more patients choose dental implants as the...  \n",
       "1  Diabetes mellitus (DM) is a recognized risk fa...  \n",
       "2  Risk factors associated with tooth loss have b...  \n",
       "3  To retrospectively assess clinical and radiogr...  \n",
       "4  Periodontal disease often develops in patients...  "
      ]
     },
     "execution_count": 41,
     "metadata": {},
     "output_type": "execute_result"
    }
   ],
   "source": [
    "df = pd.read_csv(\"data_final.csv\",sep=';')\n",
    "df.head()"
   ]
  },
  {
   "cell_type": "code",
   "execution_count": 45,
   "metadata": {},
   "outputs": [
    {
     "data": {
      "text/html": [
       "<div>\n",
       "<style scoped>\n",
       "    .dataframe tbody tr th:only-of-type {\n",
       "        vertical-align: middle;\n",
       "    }\n",
       "\n",
       "    .dataframe tbody tr th {\n",
       "        vertical-align: top;\n",
       "    }\n",
       "\n",
       "    .dataframe thead th {\n",
       "        text-align: right;\n",
       "    }\n",
       "</style>\n",
       "<table border=\"1\" class=\"dataframe\">\n",
       "  <thead>\n",
       "    <tr style=\"text-align: right;\">\n",
       "      <th></th>\n",
       "      <th>text</th>\n",
       "      <th>text2</th>\n",
       "    </tr>\n",
       "  </thead>\n",
       "  <tbody>\n",
       "    <tr>\n",
       "      <th>0</th>\n",
       "      <td>Prevention and management of peri-implant dise...</td>\n",
       "      <td>As more patients choose dental implants as the...</td>\n",
       "    </tr>\n",
       "    <tr>\n",
       "      <th>1</th>\n",
       "      <td>Diabetes, Edentulism, and Cognitive Decline: A...</td>\n",
       "      <td>Diabetes mellitus (DM) is a recognized risk fa...</td>\n",
       "    </tr>\n",
       "    <tr>\n",
       "      <th>2</th>\n",
       "      <td>Tooth Loss and Caries Experience of Elderly Ch...</td>\n",
       "      <td>Risk factors associated with tooth loss have b...</td>\n",
       "    </tr>\n",
       "    <tr>\n",
       "      <th>3</th>\n",
       "      <td>Clinical outcomes of full-arch immediate fixed...</td>\n",
       "      <td>To retrospectively assess clinical and radiogr...</td>\n",
       "    </tr>\n",
       "    <tr>\n",
       "      <th>4</th>\n",
       "      <td>Periodontal diseases assessed by average bone ...</td>\n",
       "      <td>Periodontal disease often develops in patients...</td>\n",
       "    </tr>\n",
       "    <tr>\n",
       "      <th>...</th>\n",
       "      <td>...</td>\n",
       "      <td>...</td>\n",
       "    </tr>\n",
       "    <tr>\n",
       "      <th>289</th>\n",
       "      <td>The journey of gastric phytobezoar followed by...</td>\n",
       "      <td>Phytobezoars are a rare cause of intestinal ob...</td>\n",
       "    </tr>\n",
       "    <tr>\n",
       "      <th>290</th>\n",
       "      <td>Determinants of protein-energy malnutrition in...</td>\n",
       "      <td>Protein-energy malnutrition is associated with...</td>\n",
       "    </tr>\n",
       "    <tr>\n",
       "      <th>291</th>\n",
       "      <td>Prosthetic rehabilitation of an edentulous pat...</td>\n",
       "      <td>It is difficult today to find older patients w...</td>\n",
       "    </tr>\n",
       "    <tr>\n",
       "      <th>292</th>\n",
       "      <td>T-bar clasp-retained removable partial denture...</td>\n",
       "      <td>This article reports the case of a 55-year-old...</td>\n",
       "    </tr>\n",
       "    <tr>\n",
       "      <th>293</th>\n",
       "      <td>Oral radiographic and clinico-pathologic prese...</td>\n",
       "      <td>A 69-year-old woman with unexplained fever and...</td>\n",
       "    </tr>\n",
       "  </tbody>\n",
       "</table>\n",
       "<p>294 rows × 2 columns</p>\n",
       "</div>"
      ],
      "text/plain": [
       "                                                  text  \\\n",
       "0    Prevention and management of peri-implant dise...   \n",
       "1    Diabetes, Edentulism, and Cognitive Decline: A...   \n",
       "2    Tooth Loss and Caries Experience of Elderly Ch...   \n",
       "3    Clinical outcomes of full-arch immediate fixed...   \n",
       "4    Periodontal diseases assessed by average bone ...   \n",
       "..                                                 ...   \n",
       "289  The journey of gastric phytobezoar followed by...   \n",
       "290  Determinants of protein-energy malnutrition in...   \n",
       "291  Prosthetic rehabilitation of an edentulous pat...   \n",
       "292  T-bar clasp-retained removable partial denture...   \n",
       "293  Oral radiographic and clinico-pathologic prese...   \n",
       "\n",
       "                                                 text2  \n",
       "0    As more patients choose dental implants as the...  \n",
       "1    Diabetes mellitus (DM) is a recognized risk fa...  \n",
       "2    Risk factors associated with tooth loss have b...  \n",
       "3    To retrospectively assess clinical and radiogr...  \n",
       "4    Periodontal disease often develops in patients...  \n",
       "..                                                 ...  \n",
       "289  Phytobezoars are a rare cause of intestinal ob...  \n",
       "290  Protein-energy malnutrition is associated with...  \n",
       "291  It is difficult today to find older patients w...  \n",
       "292  This article reports the case of a 55-year-old...  \n",
       "293  A 69-year-old woman with unexplained fever and...  \n",
       "\n",
       "[294 rows x 2 columns]"
      ]
     },
     "execution_count": 45,
     "metadata": {},
     "output_type": "execute_result"
    }
   ],
   "source": [
    "df.replace(\"\", float(\"NaN\"), inplace=True)\n",
    "df.dropna(inplace=True)\n",
    "df.rename(columns = {\"Abstract\" : \"text2\", \"Title\":\"text\"},inplace = True)\n",
    "df"
   ]
  },
  {
   "cell_type": "code",
   "execution_count": 46,
   "metadata": {},
   "outputs": [],
   "source": [
    "df.insert(2, \"label\", [0, 0,0, 0,0,0,0,0,0,0,0,0,0,0,0,0,0,0,0,0,0,0,0, 0, 0,0,0,0,0,0,0,0,0,0,0,0,0,0,0,0,0,0,0,0, 0, 0,0,0,0,0,0,0,0,0,0,0,0,0,0,0,0,0,0,0,0, 0, 0,0,0,0,0,0,0,0,0,0,0,0,0,0,0,0,0,0,0,0,\n",
    "                        0,0,0,0,0,0,0,0,0,0,0,0,0,0,0,0,0,0,0,0,0, 0, 0,0,0,0,0,0,0,0,0,0,0,0,0,0,0,0,0,0,0, 0,0,0,0,0,0,0,0,0,0,0,0,0,0,0,0,0,0,0,0, 0, 0,0,0,0,0,0,0,0,0,0,0,0,0,0,0,0,0,0,0, 0,0,0,0,0,0,0,0,0,0,0,0,0,0,0,0,0,0,0,0, 0, 0,0,0,0,0,0,0,0,0,0,0,0,0,0,0,0,0,0,0, 0,0,0,0,0,0,0,0,0,0,0,0,0,0,0,0,0,0,0,0, \n",
    "                        0,0,0,0,0,0,0,0,0,0,0,0,0,0,0,0,0,0,0,0, 0,0,0,0,0,0,0,0,0,0,0,0,0,0,0,0,0,0,0,0 ,0,0,0,1,1,1,1,1,1,1,1,1,1,1,1,1,1,1,1,1,1,1,1,1,1,1,1], True)"
   ]
  },
  {
   "cell_type": "code",
   "execution_count": 47,
   "metadata": {},
   "outputs": [],
   "source": [
    "df.to_csv(\"data.csv\", index=False)"
   ]
  },
  {
   "cell_type": "code",
   "execution_count": 48,
   "metadata": {},
   "outputs": [
    {
     "data": {
      "text/html": [
       "<div>\n",
       "<style scoped>\n",
       "    .dataframe tbody tr th:only-of-type {\n",
       "        vertical-align: middle;\n",
       "    }\n",
       "\n",
       "    .dataframe tbody tr th {\n",
       "        vertical-align: top;\n",
       "    }\n",
       "\n",
       "    .dataframe thead th {\n",
       "        text-align: right;\n",
       "    }\n",
       "</style>\n",
       "<table border=\"1\" class=\"dataframe\">\n",
       "  <thead>\n",
       "    <tr style=\"text-align: right;\">\n",
       "      <th></th>\n",
       "      <th>text</th>\n",
       "      <th>text2</th>\n",
       "      <th>label</th>\n",
       "    </tr>\n",
       "  </thead>\n",
       "  <tbody>\n",
       "    <tr>\n",
       "      <th>0</th>\n",
       "      <td>Prevention and management of peri-implant dise...</td>\n",
       "      <td>As more patients choose dental implants as the...</td>\n",
       "      <td>0</td>\n",
       "    </tr>\n",
       "    <tr>\n",
       "      <th>1</th>\n",
       "      <td>Diabetes, Edentulism, and Cognitive Decline: A...</td>\n",
       "      <td>Diabetes mellitus (DM) is a recognized risk fa...</td>\n",
       "      <td>0</td>\n",
       "    </tr>\n",
       "    <tr>\n",
       "      <th>2</th>\n",
       "      <td>Tooth Loss and Caries Experience of Elderly Ch...</td>\n",
       "      <td>Risk factors associated with tooth loss have b...</td>\n",
       "      <td>0</td>\n",
       "    </tr>\n",
       "    <tr>\n",
       "      <th>3</th>\n",
       "      <td>Clinical outcomes of full-arch immediate fixed...</td>\n",
       "      <td>To retrospectively assess clinical and radiogr...</td>\n",
       "      <td>0</td>\n",
       "    </tr>\n",
       "    <tr>\n",
       "      <th>4</th>\n",
       "      <td>Periodontal diseases assessed by average bone ...</td>\n",
       "      <td>Periodontal disease often develops in patients...</td>\n",
       "      <td>0</td>\n",
       "    </tr>\n",
       "    <tr>\n",
       "      <th>...</th>\n",
       "      <td>...</td>\n",
       "      <td>...</td>\n",
       "      <td>...</td>\n",
       "    </tr>\n",
       "    <tr>\n",
       "      <th>289</th>\n",
       "      <td>The journey of gastric phytobezoar followed by...</td>\n",
       "      <td>Phytobezoars are a rare cause of intestinal ob...</td>\n",
       "      <td>1</td>\n",
       "    </tr>\n",
       "    <tr>\n",
       "      <th>290</th>\n",
       "      <td>Determinants of protein-energy malnutrition in...</td>\n",
       "      <td>Protein-energy malnutrition is associated with...</td>\n",
       "      <td>1</td>\n",
       "    </tr>\n",
       "    <tr>\n",
       "      <th>291</th>\n",
       "      <td>Prosthetic rehabilitation of an edentulous pat...</td>\n",
       "      <td>It is difficult today to find older patients w...</td>\n",
       "      <td>1</td>\n",
       "    </tr>\n",
       "    <tr>\n",
       "      <th>292</th>\n",
       "      <td>T-bar clasp-retained removable partial denture...</td>\n",
       "      <td>This article reports the case of a 55-year-old...</td>\n",
       "      <td>1</td>\n",
       "    </tr>\n",
       "    <tr>\n",
       "      <th>293</th>\n",
       "      <td>Oral radiographic and clinico-pathologic prese...</td>\n",
       "      <td>A 69-year-old woman with unexplained fever and...</td>\n",
       "      <td>1</td>\n",
       "    </tr>\n",
       "  </tbody>\n",
       "</table>\n",
       "<p>294 rows × 3 columns</p>\n",
       "</div>"
      ],
      "text/plain": [
       "                                                  text  \\\n",
       "0    Prevention and management of peri-implant dise...   \n",
       "1    Diabetes, Edentulism, and Cognitive Decline: A...   \n",
       "2    Tooth Loss and Caries Experience of Elderly Ch...   \n",
       "3    Clinical outcomes of full-arch immediate fixed...   \n",
       "4    Periodontal diseases assessed by average bone ...   \n",
       "..                                                 ...   \n",
       "289  The journey of gastric phytobezoar followed by...   \n",
       "290  Determinants of protein-energy malnutrition in...   \n",
       "291  Prosthetic rehabilitation of an edentulous pat...   \n",
       "292  T-bar clasp-retained removable partial denture...   \n",
       "293  Oral radiographic and clinico-pathologic prese...   \n",
       "\n",
       "                                                 text2  label  \n",
       "0    As more patients choose dental implants as the...      0  \n",
       "1    Diabetes mellitus (DM) is a recognized risk fa...      0  \n",
       "2    Risk factors associated with tooth loss have b...      0  \n",
       "3    To retrospectively assess clinical and radiogr...      0  \n",
       "4    Periodontal disease often develops in patients...      0  \n",
       "..                                                 ...    ...  \n",
       "289  Phytobezoars are a rare cause of intestinal ob...      1  \n",
       "290  Protein-energy malnutrition is associated with...      1  \n",
       "291  It is difficult today to find older patients w...      1  \n",
       "292  This article reports the case of a 55-year-old...      1  \n",
       "293  A 69-year-old woman with unexplained fever and...      1  \n",
       "\n",
       "[294 rows x 3 columns]"
      ]
     },
     "execution_count": 48,
     "metadata": {},
     "output_type": "execute_result"
    }
   ],
   "source": [
    "df = pd.read_csv(\"data.csv\")\n",
    "df"
   ]
  },
  {
   "cell_type": "code",
   "execution_count": 7,
   "metadata": {},
   "outputs": [],
   "source": [
    "def cleansing(text):\n",
    "    ext = str(text)\n",
    "    print(text)\n",
    "    \n",
    "    text =  text.lower() \n",
    "    text = re.sub(r'http\\S+', '', text)\n",
    "    text = re.sub('(@\\w+|#\\w+)', '', text)\n",
    "    text = re.sub('<.*?>', '', text)\n",
    "    text = re.sub('[^a-zA-Z]', ' ', text)\n",
    "    text = re.sub(\"\\n\", \" \", text)\n",
    "    text = re.sub('(s{2,})', ' ', text)\n",
    "    text = text\n",
    "    \n",
    "    return text"
   ]
  },
  {
   "cell_type": "code",
   "execution_count": 49,
   "metadata": {},
   "outputs": [
    {
     "name": "stdout",
     "output_type": "stream",
     "text": [
      "Original data:\n",
      "0    270\n",
      "1     24\n",
      "Name: label, dtype: int64\n",
      "----------\n",
      "After oversampling:\n",
      "0    24\n",
      "1    24\n",
      "Name: label, dtype: int64\n"
     ]
    }
   ],
   "source": [
    "def perform_oversampling(df):\n",
    "    df_non = df[df['label'] == 1]\n",
    "    df_exclude = df[df['label'] == 0]\n",
    "    df_low_oversampled = df_exclude.sample(df_non.shape[0], replace=True)\n",
    "    return pd.concat([df_low_oversampled, df_non], axis=0)\n",
    "\n",
    "print('Original data:')\n",
    "print(df['label'].value_counts())\n",
    "\n",
    "df_balanced = perform_oversampling(df)\n",
    "\n",
    "print('-'*10)\n",
    "print('After oversampling:')\n",
    "print(df_balanced['label'].value_counts())"
   ]
  },
  {
   "cell_type": "code",
   "execution_count": 9,
   "metadata": {},
   "outputs": [
    {
     "name": "stdout",
     "output_type": "stream",
     "text": [
      "Prevention and management of peri-implant disease.\n",
      "Diabetes, Edentulism, and Cognitive Decline: A 12-Year Prospective Analysis.\n",
      "Tooth Loss and Caries Experience of Elderly Chileans in the Context of the COVID-19 Pandemic in Five Regions of Chile.\n",
      "Clinical outcomes of full-arch immediate fixed prostheses supported by two axial and two tilted implants: A retrospective cohort study with 12-15 years of follow-up.\n",
      "Periodontal diseases assessed by average bone resorption are associated with microvascular complications in patients with type 2 diabetes.\n",
      "Comparative Analysis of Edentulism in a Sample of Mexican Adults with and without Type 2 Diabetes.\n",
      "Effects of wearing removable dentures and aging on palatal mucosa blood flow by laser doppler.\n",
      "The impact of implant-retained overdentures on type-2 diabetic and non-diabetic edentulous patients: Satisfaction and quality of life in a prospective cohort study.\n",
      "Full Arch Implant-Prosthetic Rehabilitation in Patients with Type I Diabetes Mellitus: Retrospective Clinical Study with 10 Year Follow-Up.\n",
      "Assessment of Bone Mineral Density in Type 2 Diabetes: A Cone Beam Computed Tomography (CBCT) Study.\n",
      "Effect of Acrylic Removable Partial Denture in Caries Prevalence Among Diabetic and Non-Diabetic Patients.\n",
      "Periodontitis and peri-implantitis in elderly people experiencing institutional and hospital confinement.\n",
      "Full-Mouth Rehabilitation Using a Tissue-Level Angled-Head Dental Implant System: A Retrospective Analysis with Long-Term Follow-Up.\n",
      "High exposure to phthalates is associated with HbA1\n",
      "Multiple Chronic Diseases Associated With Tooth Loss Among the US Adult Population.\n",
      "Clinical Condition of the Oral Cavity in the Adult Polish Population below 70 Years of Age after Myocardial Infarction-A Case-Control Study.\n",
      "On the Association between Implant-Supported Prosthesis and Glycemic Control (HbA1c Values).\n",
      "Implant stability of narrow diameter implants in hyperglycemic patients-A 3-month case-control study.\n",
      "Association between physical multimorbidity and sleep problems in 46 low- and middle-income countries.\n",
      "Melolabial interpolated island flap for reconstruction of an anterior oronasal fistula after horseshoe Le Fort I osteotomy with iliac bone grafts interposition - A case report.\n",
      "Diabetes mellitus and its association with dental caries, missing teeth and dental services utilization in the US adult population: Results from the 2015-2018 National Health and Nutrition Examination Survey.\n",
      "Tooth loss and uncontrolled diabetes among US adults.\n",
      "Oral Health-Related Quality of Life and Missing Teeth in an Adult Population: A Cross-Sectional Study from Poland.\n",
      "The Effect of the COVID-19 Pandemic on Patient Selection, Surgical Procedures, and Postoperative Complications in a Specialized Dental Implant Clinic.\n",
      "Prevalence of Denture-Related Stomatitis in Edentulous Patients at a Tertiary Dental Teaching Hospital.\n",
      "Bone-related polymorphisms and dental status in older men and women. Results of the longitudinal Pro.V.A. study.\n",
      "Health-related quality of life in edentulous patients.\n",
      "Implant Treatment by Guided Surgery Supporting Overdentures in Edentulous Mandible Patients.\n",
      "Number of teeth is associated with all-cause and disease-specific mortality.\n",
      "Eradication of \n",
      "Association between diabetes and edentulism and their joint effects on health status in 40 low and middle-income countries.\n",
      "Glycemic fluctuation exacerbates inflammation and bone loss and alters microbiota profile around implants in diabetic mice with experimental peri-implantitis.\n",
      "Critical Assessment on Unmet Oral Health Needs and Oral Health-related Quality of Life Among Old Age Home Inhabitants in Karnataka, India.\n",
      "Multimorbidity and Subjective Cognitive Complaints: Findings from 48 Low- and Middle-Income Countries of the World Health Survey 2002-2004.\n",
      "US adults with diabetes mellitus: Variability in oral healthcare utilization.\n",
      "Association of Edentulism with Various Chronic Diseases in Mexican Elders 60+ Years: Results of a Population-Based Survey.\n",
      "Marginal Bone Loss of Dental Implants in Patients with Type 2 Diabetes Mellitus with Poorly Controlled HbA1c Values: A Long-Term Retrospective Study.\n",
      "Multiple Unhealthy Behaviors Share Equivalent Profiles of Readiness for Change in Patients with Type 2 Diabetes.\n",
      "Clinical and epigenetic determinants of edentulism in type 2 diabetic subjects referring to a tertiary center.\n",
      "Could implant position influence the peri-implant parameters in edentulous mandibles of diabetics rehabilitated with overdentures? A split-mouth randomized study.\n",
      "Bone quality analysis of jaw bones in individuals with type 2 diabetes mellitus-post mortem anatomical and microstructural evaluation.\n",
      "Dental implants survival rate in controlled type I diabetic patients: a prospective longitudinal study with a 2-year follow-up.\n",
      "Depression is related to edentulism and lack of functional dentition: An analysis of NHANES data, 2005-2016.\n",
      "Elevated Coronary Artery Calcium scores are associated with tooth loss.\n",
      "Influence of Glycemic Control on the Survival of Implants Placed in the Zygomatic Bone of Edentulous Patients With and Without Type 2 Diabetes Mellitus: 10-Year Follow-Up Results.\n",
      "Periodontal disease, undiagnosed diabetes, and body mass index: Implications for diabetes screening by dentists.\n",
      "An appraisal of bone resorption in completely edentulous diabetic and nondiabetic patients at prospective implant site in anterior mandible using digital volumetric tomography and its correlation with glycemic control: A case-control study.\n",
      "Coexistence of Lack of Clinical Manifestation of Oral Mycosis and Systemic Diseases in Edentulous Patients Using Removable Prosthetic Restorations.\n",
      "Long-term follow-up of full-arch immediate implant-supported restorations in edentulous jaws: a clinical study.\n",
      "An advanced prediction model for postoperative complications and early implant failure.\n",
      "Tooth loss as a potential risk factor for deficient sleep: an analysis of a nationally representative sample of adults in the USA.\n",
      "Prevalence of and Changes in Tooth Loss Among Adults Aged ≥50 Years with Selected Chronic Conditions - United States, 1999-2004 and 2011-2016.\n",
      "A case control study to investigate the effects of denture wear on residual alveolar ridge resorption in edentulous patients.\n",
      "Diabetes as a potential risk for periodontitis: association studies.\n",
      "Predictors of periodontal disease among rural Indian type 2 diabetic population.\n",
      "The association of clinically determined periodontal disease and edentulism with total cancer mortality: The National Health and Nutrition Examination Survey III.\n",
      "Zirconia crowns cemented on titanium bars using CAD/CAM: a five-year follow-up prospective clinical study of 9 patients.\n",
      "Impact of Implant and Site Characteristics on the Pattern of Bone Loss in Peri-implantitis.\n",
      "Oral and dental health and health care for Māori with type 2 diabetes: A qualitative study.\n",
      "Association between Diabetes and the Use of Removable Dental Prostheses among the Korean Population.\n",
      "CORRELATION OF ORAL HEALTH STATUS WITH GENERAL HEALTH IN ELDERLY LIVING AT RESIDENTIAL HOMES IN GEORGIA.\n",
      "Assessment of oral health status among uncontrolled diabetic mellitus patients in Tunisia.\n",
      "Combining Intraoral and Face Scans for the Design and Fabrication of Computer-Assisted Design/Computer-Assisted Manufacturing (CAD/CAM) Polyether-Ether-Ketone (PEEK) Implant-Supported Bars for Maxillary Overdentures.\n",
      "Concepts for prevention of complications in implant therapy.\n",
      "An 11-Year Retrospective Research Study of the Predictive Factors of Peri-Implantitis and Implant Failure: Analytic-Multicentric Study of 1279 Implants in Peru.\n",
      "Factors Associated With Becoming Edentulous in the US Health and Retirement Study.\n",
      "Oral health complications in Brazilian and French diabetic older people: A comparative study.\n",
      "Rural-urban health disparities among older adults in South Africa.\n",
      "Immediate Functional Loading: Results for the Concept of the Strategic Implant\n",
      "Bismuth drugs tackle Porphyromonas gingivalis and attune cytokine response in human cells.\n",
      "Racial or Ethnic Health Disparities among Older Adults in Four Population Groups in South Africa.\n",
      "Impact of Dental Diseases on Quality-Adjusted Life Expectancy in US Adults.\n",
      "Comparative study of evaluation of the oral stereognostic ability between diabetic and nondiabetic complete denture wearers with and without denture.\n",
      "Associations of number of teeth with medical costs and hospitalization duration in an older Japanese population.\n",
      "Handgrip strength, chronic physical conditions and physical multimorbidity in middle-aged and older adults in six low- and middle income countries.\n",
      "Reassessing the Role of \n",
      "Sleep duration and remaining teeth among older people.\n",
      "Associations between active travel and physical multi-morbidity in six low- and middle-income countries among community-dwelling older adults: A cross-sectional study.\n",
      "Association between periodontal condition and the development of type 2 diabetes mellitus-Results from a 15-year follow-up study.\n",
      "Prognostic Implication of Selective Serotonin Reuptake Inhibitors in Osseointegration of Dental Implants: A 5-year Retrospective Study.\n",
      "Dental status in the Polish senior population and its correlates-Results of the national survey PolSenior.\n",
      "The prevalence of edentulism and their related factors in Indonesia, 2014/15.\n",
      "Tooth loss and pneumonia mortality: A cohort study of Japanese dentists.\n",
      "Periodontitis, edentulism and glycemic control in patients with type 2 diabetes: a cross-sectional study.\n",
      "Quality of life and oral health among hypertensive and diabetic people in a Brazilian Southeastern city.\n",
      "The Effect of Moderately Controlled Type 2 Diabetes on Dental Implant Survival and Peri-implant Bone Loss: A Long-Term Retrospective Study.\n",
      "Association between the number of teeth and hypertension in a study based on 13,561 participants.\n",
      "Chronic Physical Conditions, Multimorbidity, and Mild Cognitive Impairment in Low- and Middle-Income Countries.\n",
      "A new spiral dental implant: a tool for oral rehabilitation of difficult cases.\n",
      "Influence of Poor Oral Health on Physical Frailty: A Population-Based Cohort Study of Older British Men.\n",
      "Japanese Cardiovascular Disease Patients with Diabetes Mellitus Suffer Increased Tooth Loss in Comparison to Those without Diabetes Mellitus -A Cross-sectional Study.\n",
      "Associations among tooth loss, systemic inflammation and antibody titers to periodontal pathogens in Japanese patients with cardiovascular disease.\n",
      "Physical chronic conditions, multimorbidity and sedentary behavior amongst middle-aged and older adults in six low- and middle-income countries.\n",
      "Is History of Periodontitis a Risk Factor for Peri-implant Disease? A Pilot Study.\n",
      "Oral Health Care in the Future: Expansion of the Scope of Dental Practice to Improve Health.\n",
      "Missing Teeth and Prosthetic Treatment in Patients Treated at College of Dentistry, University of Dammam.\n",
      "Standardized screening for periodontitis as an integral part of multidisciplinary management of adults with type 2 diabetes: an observational cross-sectional study of cohorts in the USA and UK.\n",
      "Perceived Stress and Its Relationship With Chronic Medical Conditions and Multimorbidity Among 229,293 Community-Dwelling Adults in 44 Low- and Middle-Income Countries.\n",
      "Influence of Apico-Coronal Implant Placement on Post-Surgical Crestal Bone Loss in Humans.\n",
      "History of Periodontitis Diagnosis and Edentulism as Predictors of Cardiovascular Disease, Stroke, and Mortality in Postmenopausal Women.\n",
      "Lower risk for cardiovascular mortality for patients with root filled teeth in a Finnish population.\n",
      "Effects of glucose concentration on osteogenic differentiation of type II diabetes mellitus rat bone marrow-derived mesenchymal stromal cells on a nano-scale modified titanium.\n",
      "The relationship between chronic physical conditions, multimorbidity and anxiety in the general population: A global perspective across 42 countries.\n",
      "Physical, mental and cognitive disabilities in relation to utilization of dental care services by nursing home residents.\n",
      "Chronic physical conditions, multimorbidity and physical activity across 46 low- and middle-income countries.\n",
      "Physical multimorbidity and psychosis: comprehensive cross sectional analysis including 242,952 people across 48 low- and middle-income countries.\n",
      "Surgical site infection in clean-contaminated wounds after multimodal treatment of advanced oral squamous cell carcinoma.\n",
      "Epidemiology of depression with psychotic experiences and its association with chronic physical conditions in 47 low- and middle-income countries.\n",
      "Association between oral health status and central obesity among Brazilian independent-living elderly.\n",
      "Impact of smoking on tooth loss in adults.\n",
      "Evaluation of correlations between frequencies of complete denture relines and serum levels of 3 bone metabolic markers: A cross-sectional pilot study.\n",
      "Comparison of Preprosthetic Implant Complications and Failures Between Obese and Nonobese Patients.\n",
      "Association between tooth loss and hypertension among a primarily rural middle aged and older Indian adult population.\n",
      "Prosthetic treatment after teeth extractions in patients with type 2 diabetes mellitus.\n",
      "Periodontitis prevalence in adults ≥ 65 years of age, in the USA.\n",
      "Geriatric periodontology: how the need to care for the aging population can influence the future of the dental profession.\n",
      "Retrospective study on bone-level and soft-tissue-level cylindrical implants.\n",
      "Impact of Platelet-Rich Plasma on Bone Height Changes around Platform Switched Implants Supporting Mandibular Overdentures in Controlled Diabetic Patients.\n",
      "Association of diabetes with tooth loss in Hispanic/Latino adults: findings from the Hispanic Community Health Study/Study of Latinos.\n",
      "Oral physiology, nutrition and quality of life in diabetic patients associated or not with hypertension and beta-blockers therapy.\n",
      "Patterns of oral disease in adults with chronic kidney disease treated with hemodialysis.\n",
      "Risk indicators for Peri-implantitis. A cross-sectional study with 916 implants.\n",
      "Global burden of oral diseases: emerging concepts, management and interplay with systemic health.\n",
      "Prevalence and Possible Risk Factors of Peri-implantitis: A Concept Review.\n",
      "Tooth loss and associated factors in elders: results from a national survey in Uruguay.\n",
      "Pathologies of the oral cavity in patients with non-controlled diabetes type 1 and type 2--analysis of periodontal status and periodontal treatment needs.\n",
      "Factors affecting peri-implant bone resorption in four Implant supported mandibular full-arch restorations: a 3-year prospective study.\n",
      "Risk indicators for peri-implantitis. A narrative review.\n",
      "Association between dental status and food diversity among older Japanese.\n",
      "Oral health information from the dentist to the diabetologist.\n",
      "Oral health conditions of the elderly in Ancona: a population-based study.\n",
      "Association between adult height and tooth loss in a representative sample of Koreans.\n",
      "Association of parental education with tooth loss among Korean Elders.\n",
      "Missing Teeth Predict Incident Cardiovascular Events, Diabetes, and Death.\n",
      "Lack of dental insurance is correlated with edentulism.\n",
      "Pre-diabetes and well-controlled diabetes are not associated with periodontal disease: the SHIP Trend Study.\n",
      "Oral health-related quality of life and periodontal and dental health status in Iranian hemodialysis patients.\n",
      "The effects of elevated hemoglobin A(1c) in patients with type 2 diabetes mellitus on dental implants: Survival and stability at one year.\n",
      "Tooth loss and stroke: results from the behavioral risk factor surveillance system, 2010.\n",
      "Effects of a hydrogel patch on denture-related traumatic ulcers; an exploratory study.\n",
      "A clinical prospective study on alveolar bone augmentation and dental implant success in patients with type 2 diabetes.\n",
      "Association between Serum Antibodies to Oral Microorganisms and Hyperglycemia in Adults.\n",
      "Systemic exposure to a common periodontal pathogen and missing teeth are associated with metabolic syndrome.\n",
      "The association of periodontitis and metabolic syndrome.\n",
      "Association between short leukocyte telomere length, endotoxemia, and severe periodontitis in people with diabetes: a cross-sectional survey.\n",
      "Zygomatic implants for the management of the severely atrophied maxilla: a retrospective analysis of 244 implants.\n",
      "Multimorbidity patterns in a national representative sample of the Spanish adult population.\n",
      "Unsplinted implants retaining a mandibular overdenture with magnetic attachments: a short-term clinical study in controlled type 2 diabetic patients.\n",
      "Type 2 diabetes and edentulism as chronic co-morbid factors affecting Indian elderly: an overview.\n",
      "Comparison of systemic health conditions between African American and Caucasian complete denture patients.\n",
      "Number of teeth, C-reactive protein, fibrinogen and cardiovascular mortality: a 15-year follow-up study in a Finnish cohort.\n",
      "Cross-sectional associations of oral health measures with cognitive function in late middle-aged adults: a community-based study.\n",
      "Tooth loss strongly associates with malnutrition in chronic kidney disease.\n",
      "A cohort study of the impact of tooth loss and periodontal disease on respiratory events among COPD subjects: modulatory role of systemic biomarkers of inflammation.\n",
      "Association between edentulism and angina pectoris in Mexican adults aged 35 years and older: a multivariate analysis of a population-based survey.\n",
      "Biofilm formation by oral clinical isolates of Candida species.\n",
      "Assessment of Maxillary and Mandibular Bone Density in Controlled Type II Diabetes: A Computed Tomography Study.\n",
      "Surveillance for certain health behaviors among States and selected local areas - United States, 2010.\n",
      "Factors associated with numbers of remaining teeth among type 2 diabetes: a cross-sectional study.\n",
      "Diabetes and tooth loss: an analysis of data from the National Health and Nutrition Examination Survey, 2003-2004.\n",
      "Sociodemographic and health-related risk factors associated with tooth loss among adults in Rhode Island.\n",
      "Diabetes mellitus and periodontal diseases.\n",
      "Can the use of antibiotics interfere with the success of dental osseointegrated implants in diabetic patients?\n",
      "Obstructive airway disease and edentulism in the atherosclerosis risk in communities (ARIC) study.\n",
      "Implant location and radiotherapy are the only factors linked to 2-year implant failure.\n",
      "Impact of tooth loss on oral and systemic health.\n",
      "Tooth loss and periodontitis in older individuals: results from the Swedish National Study on Aging and Care.\n",
      "Thesis, antithesis, and synthesis in periodontal and systemic interlink.\n",
      "Downregulated gene expression of TGF-βs in diabetic oral wound healing.\n",
      "Xerostomia in complete denture wearers: prevalence, clinical findings and impact on oral functions.\n",
      "The global burden of periodontal disease: towards integration with chronic disease prevention and control.\n",
      "Tooth loss is associated with increased blood pressure in adults--a multidisciplinary population-based study.\n",
      "Inflammatory biomarkers in saliva: assessing the strength of association of diabetes mellitus and periodontal status with the oral inflammatory burden.\n",
      "Exploring salivary proteomes in edentulous patients with type 2 diabetes.\n",
      "Cholesterol, C-Reactive Protein, and Periodontitis: HMG-CoA-Reductase Inhibitors (Statins) as Effect Modifiers.\n",
      "Conventional SLA and chemically modified SLA implants in patients with poorly controlled type 2 diabetes mellitus--a randomized controlled trial.\n",
      "Total tooth loss and systemic correlates of inflammation: role of obesity.\n",
      "Edentulism and dental caries in Victorian nursing homes.\n",
      "Periapical and endodontic status of type 2 diabetic patients in Catalonia, Spain: a cross-sectional study.\n",
      "Survival and success rates of immediately and early loaded implants: 12-month results from a multicentric randomized clinical study.\n",
      "Impact of facial form on the relationship between conventional or implant-assisted mandibular dentures and masticatory function.\n",
      "Edentulism risk indicators among Mexican elders 60-year-old and older.\n",
      "Periodontal disease and oral hygiene habits in a type 2 diabetic population.\n",
      "Association between periodontal infection and obesity: results of the Health 2000 Survey.\n",
      "Bidirectional relationship between chronic kidney and periodontal disease: a study using structural equation modeling.\n",
      "Candida-associated denture stomatitis in type 2 diabetes mellitus.\n",
      "Periodontal disease and risk for neuropathic foot ulceration in type 2 diabetes.\n",
      "Xerostomia and hyposalivation: a preliminary report of their prevalence and associated factors in Brazilian elderly diabetic patients.\n",
      "Edentulism and comorbid factors.\n",
      "Implant location and radiotherapy are the only factors linked to 2-year implant failure.\n",
      "Periodontal status and A1C change: longitudinal results from the study of health in Pomerania (SHIP).\n",
      "Time orientation and executive functions in the prediction of mortality in the elderly: Epidoso study.\n",
      "Tooth loss and intakes of nutrients and foods: a nationwide survey of Japanese dentists.\n",
      "Number of teeth and selected cardiovascular risk factors among elderly people.\n",
      "The relationship between self-reported history of endodontic therapy and coronary heart disease in the Atherosclerosis Risk in Communities Study.\n",
      "Tooth loss prevalence and risk indicators in an isolated population of Brazil.\n",
      "Candida Colonization on the Denture of Diabetic and Non-diabetic Patients.\n",
      "Edentulism and comorbid factors.\n",
      "Prosthetic rehabilitation of necrotic maxilla sequelae of faulty denture: report of a rare case.\n",
      "A prediction model for chronic kidney disease includes periodontal disease.\n",
      "Peri-implant diseases may be associated with increased time loading and generalized periodontal bone loss: preliminary results.\n",
      "Conventional and advanced implant treatment in the type II diabetic patient: surgical protocol and long-term clinical results.\n",
      "Clinical and serologic markers of periodontal infection and chronic kidney disease.\n",
      "The influence of type-1 diabetes mellitus on dentition and oral health in children and adolescents.\n",
      "Disparities in edentulism and tooth loss between Māori and non-Māori New Zealand women.\n",
      "Remaining teeth, cardiovascular morbidity and death among adult Danes.\n",
      "Impact of local and systemic factors on the incidence of late oral implant loss.\n",
      "Prevalence of malnutrition and its risk factors in stroke patients residing in an infirmary.\n",
      "Periodontal disease and incident type 2 diabetes: results from the First National Health and Nutrition Examination Survey and its epidemiologic follow-up study.\n",
      "Age-dependent associations between chronic periodontitis/edentulism and risk of coronary heart disease.\n",
      "Impact of local and systemic factors on the incidence of failures up to abutment connection with modified surface oral implants.\n",
      "Incidence of mandibular nutrient canals in hypertensive patients: a radiographic study.\n",
      "Impact of local and systemic factors on the incidence of oral implant failures, up to abutment connection.\n",
      "Effect of periodontitis on overt nephropathy and end-stage renal disease in type 2 diabetes.\n",
      "Categorical analysis of factors affecting needs and demands for removable dentures among Alexandria Dental Research Center clientele.\n",
      "Prevalence and risk variables for peri-implant disease in Brazilian subjects.\n",
      "Risk factors and prevalence of periodontitis in community-dwelling elders in Mexico.\n",
      "Tooth loss and heart disease: findings from the Behavioral Risk Factor Surveillance System.\n",
      "Oral health in women with coronary heart disease.\n",
      "Radiographic measures of chronic periodontitis and carotid artery plaque.\n",
      "Diabetes in America\n",
      "Life-style correlates of tooth loss in an adult Midwestern population.\n",
      "A descriptive 18-year retrospective review of subperiosteal implants for patients with severely atrophied edentulous mandibles.\n",
      "Anangu oral health: the status of the Indigenous population of the Anangu Pitjantjatjara lands.\n",
      "Oral disorders and chronic systemic diseases in very old adults living in institutions.\n",
      "Periodontal disease and mortality in an aged population.\n",
      "Study of Health in Pomerania (SHIP): Relationship among socioeconomic and general health factors and dental status among elderly adults in Pomerania.\n",
      "Oral health indicators poorly predict coronary heart disease deaths.\n",
      "Implants in the medically compromised patient.\n",
      "Assessment of periodontal conditions and systemic disease in older subjects.\n",
      "Dental implant treatment in diabetic patients.\n",
      "Oral hygiene practices and periodontitis in health care professionals.\n",
      "Oral self-care among adults with diabetes in Finland.\n",
      "Strength of evidence linking oral conditions and systemic disease.\n",
      "Implant prosthodontics in medically challenged patients: the University of Toronto experience.\n",
      "Single tooth replacement by Morse taper connection implants: a retrospective study of 80 implants.\n",
      "Tooth and periodontal disease: a review for the primary-care physician.\n",
      "Type 1 diabetes mellitus and oral health: assessment of coronal and root caries.\n",
      "Aspiration pneumonia: dental and oral risk factors in an older veteran population.\n",
      "Prevalence of tooth loss and dental service use in older Mexican Americans.\n",
      "Determinants of masticatory performance in dentate adults.\n",
      "Retrospective assessment of clinical and microbiological factors affecting periimplant tissue conditions.\n",
      "Tooth loss and need for extractions in American Indian and Alaska Native dental patients.\n",
      "A review of the oral health of American Indian and Alaska Native elders.\n",
      "A randomized clinical trial comparing the efficacy of mandibular implant-supported overdentures and conventional dentures in diabetic patients. Part IV: Comparisons of dietary intake.\n",
      "Dental endosseous implant assessments in a type 2 diabetic population: a prospective study.\n",
      "Acute-phase inflammatory response to periodontal disease in the US population.\n",
      "Risk factors for infective endocarditis: oral hygiene and nondental exposures.\n",
      "The effect of insulin therapy on osseointegration in a diabetic rat model.\n",
      "Risk factors for spread of primary adult onset blepharospasm: a multicentre investigation of the Italian movement disorders study group.\n",
      "Randomized clinical trial comparing the efficacy of mandibular implant-supported overdentures and conventional dentures in diabetic patients. Part III: comparisons of patient satisfaction.\n",
      "Association of edentulousness with systemic factors in elderly people living at home.\n",
      "Oral health status of institutionalized geriatric residents in Metro Manila.\n",
      "Periodontal disease and risk of fatal coronary heart and cerebrovascular diseases.\n",
      "Type 1 diabetes mellitus and oral health: assessment of tooth loss and edentulism.\n",
      "A randomized clinical trial comparing the efficacy of mandibular implant-supported overdentures and conventional dentures in diabetic patients. Part II. Comparisons of masticatory performance.\n",
      "A randomized clinical trial comparing the efficacy of mandibular implant-supported overdentures and conventional dentures in diabetic patients. Part I: Methodology and clinical outcomes.\n",
      "Impact of medical and life-style factors on number of teeth in 68-year-old men in southern Sweden.\n",
      "An assessment of the association between functional edentulism, obesity, and NIDDM.\n",
      "General and local contraindications for endosseal implants--an epidemiological panoramic radiograph study in 65-year-old subjects.\n",
      "Parotid function and composition of parotid saliva among elderly edentulous African-American diabetics.\n",
      "Risk factors for total tooth loss in the United States; longitudinal analysis of national data.\n",
      "Hormonal alterations and osteoporotic syndromes.\n",
      "The prevalence of root caries in a diabetic population.\n",
      "Dental status in a group of adult diabetic patients.\n",
      "Dental care habits and knowledge of oral health in insulin-dependent diabetics.\n",
      "Periodontal conditions in insulin-dependent diabetics.\n",
      "CPITN assessment of periodontal disease in diabetic patients.\n",
      "Secretor status, candidal carriage and candidal infection in patients with diabetes mellitus.\n",
      "Masticatory handicap, socioeconomic status, and chronic conditions among adults.\n",
      "Correlation Between Diabetes Mellitus and Peri-implantitis: A Systematic Review.\n",
      "Occult Mönckeberg medial calcinosis of the facial and infraorbital arteries in an elderly edentulous patient.\n",
      "Dental implants in patients suffering from autoimmune diseases: A systematic critical review.\n",
      "Association of tooth loss with morbidity and mortality by diabetes status in older adults: a systematic review.\n",
      "Survival rate and peri-implant evaluation of immediately loaded dental implants in individuals with type 2 diabetes mellitus: a systematic review and meta-analysis.\n",
      "Functional Aesthetic Rehabilitation of a Patient with Dental Biocorrosion: A Case Report.\n",
      "Transmucosal Boston Keratoprosthesis Type I in a Patient With Advanced Ocular Cicatricial Pemphigoid.\n",
      "Relationship between periodontal disease and lung cancer: A systematic review and meta-analysis.\n",
      "Bony cystic lesion with associated submandibular lymphadenopathy on a background of breast carcinoma: an unexpected case of cervicofacial actinomycosis.\n",
      "A rare case of non-clostridial infection in a non-diabetic patient.\n",
      "The Effects of Systemic Diseases and Medications on Implant Osseointegration: A Systematic Review.\n",
      "Dental imaging of trabecular bone structure for systemic disorder screening: A systematic review.\n",
      "Epidemiology and risk factors of peri-implantitis: A systematic review.\n",
      "Periodontal disease, edentulism, and pancreatic cancer: a meta-analysis.\n",
      "Medication-related osteonecrosis of the jaws caused lethal sepsis in an edentulous patient with multiple systemic factors.\n",
      "Invasive fungal rhinosinusitis with palatal erosion in an elderly edentulous patient with uncontrolled diabetes: report of a rare case.\n",
      "The Use of Telescopic Crowns in Removable Partial Denture Treatment for Patients with Severe Periodontal Disease: Two Patient Case History Reports.\n",
      "Narrow-implant-retained overdenture in an atrophic mandibular ridge: a case report with 6-year follow-up.\n",
      "Resilient Attachments as an Alternative to Conventional Cast Clasp Removable Partial Denture: 3-Year Follow-up.\n",
      "The journey of gastric phytobezoar followed by tomography.\n",
      "Determinants of protein-energy malnutrition in community-dwelling older adults: a systematic review of observational studies.\n",
      "Prosthetic rehabilitation of an edentulous patient with cleft palate.\n",
      "T-bar clasp-retained removable partial denture as an alternative to implant-based prosthetic treatment.\n",
      "Oral radiographic and clinico-pathologic presentation of Erdheim-Chester disease: a case report.\n"
     ]
    },
    {
     "data": {
      "text/html": [
       "<div>\n",
       "<style scoped>\n",
       "    .dataframe tbody tr th:only-of-type {\n",
       "        vertical-align: middle;\n",
       "    }\n",
       "\n",
       "    .dataframe tbody tr th {\n",
       "        vertical-align: top;\n",
       "    }\n",
       "\n",
       "    .dataframe thead th {\n",
       "        text-align: right;\n",
       "    }\n",
       "</style>\n",
       "<table border=\"1\" class=\"dataframe\">\n",
       "  <thead>\n",
       "    <tr style=\"text-align: right;\">\n",
       "      <th></th>\n",
       "      <th>text</th>\n",
       "      <th>text2</th>\n",
       "      <th>label</th>\n",
       "    </tr>\n",
       "  </thead>\n",
       "  <tbody>\n",
       "    <tr>\n",
       "      <th>0</th>\n",
       "      <td>prevention and management of peri implant dise...</td>\n",
       "      <td>As more patients choose dental implants as the...</td>\n",
       "      <td>0</td>\n",
       "    </tr>\n",
       "    <tr>\n",
       "      <th>1</th>\n",
       "      <td>diabetes  edentulism  and cognitive decline  a...</td>\n",
       "      <td>Diabetes mellitus (DM) is a recognized risk fa...</td>\n",
       "      <td>0</td>\n",
       "    </tr>\n",
       "    <tr>\n",
       "      <th>2</th>\n",
       "      <td>tooth lo  and caries experience of elderly chi...</td>\n",
       "      <td>Risk factors associated with tooth loss have b...</td>\n",
       "      <td>0</td>\n",
       "    </tr>\n",
       "    <tr>\n",
       "      <th>3</th>\n",
       "      <td>clinical outcomes of full arch immediate fixed...</td>\n",
       "      <td>To retrospectively assess clinical and radiogr...</td>\n",
       "      <td>0</td>\n",
       "    </tr>\n",
       "    <tr>\n",
       "      <th>4</th>\n",
       "      <td>periodontal diseases a e ed by average bone re...</td>\n",
       "      <td>Periodontal disease often develops in patients...</td>\n",
       "      <td>0</td>\n",
       "    </tr>\n",
       "  </tbody>\n",
       "</table>\n",
       "</div>"
      ],
      "text/plain": [
       "                                                text  \\\n",
       "0  prevention and management of peri implant dise...   \n",
       "1  diabetes  edentulism  and cognitive decline  a...   \n",
       "2  tooth lo  and caries experience of elderly chi...   \n",
       "3  clinical outcomes of full arch immediate fixed...   \n",
       "4  periodontal diseases a e ed by average bone re...   \n",
       "\n",
       "                                               text2  label  \n",
       "0  As more patients choose dental implants as the...      0  \n",
       "1  Diabetes mellitus (DM) is a recognized risk fa...      0  \n",
       "2  Risk factors associated with tooth loss have b...      0  \n",
       "3  To retrospectively assess clinical and radiogr...      0  \n",
       "4  Periodontal disease often develops in patients...      0  "
      ]
     },
     "execution_count": 9,
     "metadata": {},
     "output_type": "execute_result"
    }
   ],
   "source": [
    "df['text'] = df['text'].apply(cleansing)\n",
    "df.head()"
   ]
  },
  {
   "cell_type": "code",
   "execution_count": 88,
   "metadata": {},
   "outputs": [],
   "source": [
    "#testing with Title \n",
    "\n",
    "x_train, x_test, y_train, y_test = train_test_split(df_balanced['text'], df_balanced['label'], test_size=0.2, random_state=434) "
   ]
  },
  {
   "cell_type": "code",
   "execution_count": 89,
   "metadata": {},
   "outputs": [],
   "source": [
    "max_len = 1000 \n",
    "trunc_type = 'post'\n",
    "padding_type = 'post'\n",
    "oov_tok = '<OOV>' # out of vocabulary token\n",
    "vocab_size = 5000"
   ]
  },
  {
   "cell_type": "code",
   "execution_count": 90,
   "metadata": {},
   "outputs": [],
   "source": [
    "tokenizer = Tokenizer(num_words = vocab_size, \n",
    "                      char_level = False,\n",
    "                      oov_token = oov_tok)\n",
    "tokenizer.fit_on_texts(x_train)"
   ]
  },
  {
   "cell_type": "code",
   "execution_count": 91,
   "metadata": {},
   "outputs": [
    {
     "data": {
      "text/plain": [
       "264"
      ]
     },
     "execution_count": 91,
     "metadata": {},
     "output_type": "execute_result"
    }
   ],
   "source": [
    "word_index = tokenizer.word_index\n",
    "total_words = len(word_index)\n",
    "total_words"
   ]
  },
  {
   "cell_type": "code",
   "execution_count": 92,
   "metadata": {},
   "outputs": [],
   "source": [
    "training_sequences = tokenizer.texts_to_sequences(x_train)\n",
    "training_padded = pad_sequences(training_sequences,\n",
    "                                maxlen = max_len,\n",
    "                                padding = padding_type,\n",
    "                                truncating = trunc_type)"
   ]
  },
  {
   "cell_type": "code",
   "execution_count": 93,
   "metadata": {},
   "outputs": [],
   "source": [
    "testing_sequences = tokenizer.texts_to_sequences(x_test)\n",
    "testing_padded = pad_sequences(testing_sequences,\n",
    "                               maxlen = max_len,\n",
    "                               padding = padding_type,\n",
    "                               truncating = trunc_type)"
   ]
  },
  {
   "cell_type": "code",
   "execution_count": 94,
   "metadata": {},
   "outputs": [
    {
     "name": "stdout",
     "output_type": "stream",
     "text": [
      "Shape of training tensor:  (38, 1000)\n",
      "Shape of testing tensor:  (10, 1000)\n"
     ]
    }
   ],
   "source": [
    "print('Shape of training tensor: ', training_padded.shape)\n",
    "print('Shape of testing tensor: ', testing_padded.shape) "
   ]
  },
  {
   "cell_type": "code",
   "execution_count": 95,
   "metadata": {},
   "outputs": [],
   "source": [
    "vocab_size = 5000\n",
    "embedding_dim = 16\n",
    "drop_value = 0.2\n",
    "n_dense = 24\n",
    "n_lstm = 128\n",
    "drop_lstm = 0.2\n",
    "model = Sequential()\n",
    "model.add(Embedding(vocab_size,\n",
    "                    embedding_dim,\n",
    "                    input_length = max_len))\n",
    "model.add(GlobalAveragePooling1D())\n",
    "model.add(Dense(24, activation='relu'))\n",
    "model.add(Dropout(drop_value))\n",
    "model.add(Dense(1, activation='sigmoid')) "
   ]
  },
  {
   "cell_type": "code",
   "execution_count": 96,
   "metadata": {},
   "outputs": [],
   "source": [
    "model2 = Sequential()\n",
    "model2.add(Embedding(vocab_size,\n",
    "                     embedding_dim,\n",
    "                     input_length = max_len))\n",
    "model2.add(Bidirectional(LSTM(n_lstm,\n",
    "                              return_sequences = False)))\n",
    "model2.add(Dropout(drop_lstm))\n",
    "model2.add(Dense(1, activation='sigmoid')) "
   ]
  },
  {
   "cell_type": "code",
   "execution_count": 97,
   "metadata": {},
   "outputs": [
    {
     "name": "stdout",
     "output_type": "stream",
     "text": [
      "Model: \"sequential_11\"\n",
      "_________________________________________________________________\n",
      " Layer (type)                Output Shape              Param #   \n",
      "=================================================================\n",
      " embedding_11 (Embedding)    (None, 1000, 16)          80000     \n",
      "                                                                 \n",
      " bidirectional_5 (Bidirectio  (None, 256)              148480    \n",
      " nal)                                                            \n",
      "                                                                 \n",
      " dropout_11 (Dropout)        (None, 256)               0         \n",
      "                                                                 \n",
      " dense_17 (Dense)            (None, 1)                 257       \n",
      "                                                                 \n",
      "=================================================================\n",
      "Total params: 228,737\n",
      "Trainable params: 228,737\n",
      "Non-trainable params: 0\n",
      "_________________________________________________________________\n"
     ]
    }
   ],
   "source": [
    "model2.summary() "
   ]
  },
  {
   "cell_type": "code",
   "execution_count": 98,
   "metadata": {},
   "outputs": [],
   "source": [
    "model2.compile(loss = 'binary_crossentropy',\n",
    "               optimizer = 'adam',\n",
    "               metrics=['accuracy']) "
   ]
  },
  {
   "cell_type": "code",
   "execution_count": 99,
   "metadata": {},
   "outputs": [
    {
     "name": "stdout",
     "output_type": "stream",
     "text": [
      "Epoch 1/4\n",
      "2/2 - 7s - loss: 0.6947 - accuracy: 0.4474 - val_loss: 0.6962 - val_accuracy: 0.4000 - 7s/epoch - 3s/step\n",
      "Epoch 2/4\n",
      "2/2 - 3s - loss: 0.6921 - accuracy: 0.5263 - val_loss: 0.6948 - val_accuracy: 0.4000 - 3s/epoch - 1s/step\n",
      "Epoch 3/4\n",
      "2/2 - 3s - loss: 0.6910 - accuracy: 0.5263 - val_loss: 0.6933 - val_accuracy: 0.4000 - 3s/epoch - 1s/step\n",
      "Epoch 4/4\n",
      "2/2 - 3s - loss: 0.6906 - accuracy: 0.6579 - val_loss: 0.6925 - val_accuracy: 0.7000 - 3s/epoch - 1s/step\n"
     ]
    }
   ],
   "source": [
    "num_epochs = 4\n",
    "early_stop = EarlyStopping(monitor = 'val_loss',\n",
    "                           patience = 2)\n",
    "history = model2.fit(training_padded,\n",
    "                     y_train,\n",
    "                     epochs = num_epochs,\n",
    "                     validation_data = (testing_padded, y_test),\n",
    "                     callbacks = [early_stop],\n",
    "                     verbose = 2) "
   ]
  },
  {
   "cell_type": "code",
   "execution_count": 22,
   "metadata": {},
   "outputs": [
    {
     "name": "stderr",
     "output_type": "stream",
     "text": [
      "WARNING:absl:Found untraced functions such as lstm_cell_1_layer_call_fn, lstm_cell_1_layer_call_and_return_conditional_losses, lstm_cell_2_layer_call_fn, lstm_cell_2_layer_call_and_return_conditional_losses while saving (showing 4 of 4). These functions will not be directly callable after loading.\n"
     ]
    },
    {
     "name": "stdout",
     "output_type": "stream",
     "text": [
      "INFO:tensorflow:Assets written to: model_bilstm\\assets\n"
     ]
    },
    {
     "name": "stderr",
     "output_type": "stream",
     "text": [
      "INFO:tensorflow:Assets written to: model_bilstm\\assets\n"
     ]
    }
   ],
   "source": [
    "model2.save('model_bilstm') "
   ]
  },
  {
   "cell_type": "code",
   "execution_count": 100,
   "metadata": {},
   "outputs": [
    {
     "name": "stdout",
     "output_type": "stream",
     "text": [
      "1/1 [==============================] - 0s 310ms/step - loss: 0.6925 - accuracy: 0.7000\n",
      "Bi-LSTM model loss and accuracy: [0.692520797252655, 0.699999988079071] \n"
     ]
    }
   ],
   "source": [
    "print(f\"Bi-LSTM model loss and accuracy: {model2.evaluate(testing_padded, y_test)} \" ) "
   ]
  },
  {
   "cell_type": "code",
   "execution_count": 101,
   "metadata": {},
   "outputs": [
    {
     "name": "stdout",
     "output_type": "stream",
     "text": [
      "WARNING:tensorflow:5 out of the last 18 calls to <function Model.make_predict_function.<locals>.predict_function at 0x0000022AE05485E0> triggered tf.function retracing. Tracing is expensive and the excessive number of tracings could be due to (1) creating @tf.function repeatedly in a loop, (2) passing tensors with different shapes, (3) passing Python objects instead of tensors. For (1), please define your @tf.function outside of the loop. For (2), @tf.function has reduce_retracing=True option that can avoid unnecessary retracing. For (3), please refer to https://www.tensorflow.org/guide/function#controlling_retracing and https://www.tensorflow.org/api_docs/python/tf/function for  more details.\n"
     ]
    },
    {
     "name": "stderr",
     "output_type": "stream",
     "text": [
      "WARNING:tensorflow:5 out of the last 18 calls to <function Model.make_predict_function.<locals>.predict_function at 0x0000022AE05485E0> triggered tf.function retracing. Tracing is expensive and the excessive number of tracings could be due to (1) creating @tf.function repeatedly in a loop, (2) passing tensors with different shapes, (3) passing Python objects instead of tensors. For (1), please define your @tf.function outside of the loop. For (2), @tf.function has reduce_retracing=True option that can avoid unnecessary retracing. For (3), please refer to https://www.tensorflow.org/guide/function#controlling_retracing and https://www.tensorflow.org/api_docs/python/tf/function for  more details.\n"
     ]
    },
    {
     "name": "stdout",
     "output_type": "stream",
     "text": [
      "1/1 [==============================] - 1s 852ms/step\n",
      "              precision    recall  f1-score   support\n",
      "\n",
      "           0       1.00      0.25      0.40         4\n",
      "           1       0.67      1.00      0.80         6\n",
      "\n",
      "    accuracy                           0.70        10\n",
      "   macro avg       0.83      0.62      0.60        10\n",
      "weighted avg       0.80      0.70      0.64        10\n",
      "\n"
     ]
    }
   ],
   "source": [
    "from sklearn.metrics import confusion_matrix, accuracy_score, classification_report\n",
    "import seaborn as sns\n",
    "import numpy as np \n",
    "\n",
    "y_predict = np.where(model2.predict(testing_padded)> 0.5,1,0)\n",
    "print(classification_report(y_test, y_predict))"
   ]
  },
  {
   "cell_type": "code",
   "execution_count": 102,
   "metadata": {},
   "outputs": [
    {
     "data": {
      "text/plain": [
       "<sklearn.metrics._plot.roc_curve.RocCurveDisplay at 0x22afbdee310>"
      ]
     },
     "execution_count": 102,
     "metadata": {},
     "output_type": "execute_result"
    },
    {
     "data": {
      "image/png": "[encoded data removed]",
      "text/plain": [
       "<Figure size 432x288 with 1 Axes>"
      ]
     },
     "metadata": {
      "needs_background": "light"
     },
     "output_type": "display_data"
    }
   ],
   "source": [
    "from sklearn.metrics import RocCurveDisplay\n",
    "\n",
    "RocCurveDisplay.from_predictions(y_test, y_predict) "
   ]
  },
  {
   "cell_type": "code",
   "execution_count": 28,
   "metadata": {},
   "outputs": [],
   "source": [
    "x_train, x_test, y_train, y_test = train_test_split(df['text2'], df['label'], test_size=0.2, random_state=434) "
   ]
  },
  {
   "cell_type": "code",
   "execution_count": 29,
   "metadata": {},
   "outputs": [],
   "source": [
    "max_len = 1000 \n",
    "trunc_type = 'post'\n",
    "padding_type = 'post'\n",
    "oov_tok = '<OOV>' # out of vocabulary token\n",
    "vocab_size = 5000"
   ]
  },
  {
   "cell_type": "code",
   "execution_count": 30,
   "metadata": {},
   "outputs": [],
   "source": [
    "tokenizer = Tokenizer(num_words = vocab_size, \n",
    "                      char_level = False,\n",
    "                      oov_token = oov_tok)\n",
    "tokenizer.fit_on_texts(x_train)"
   ]
  },
  {
   "cell_type": "code",
   "execution_count": 31,
   "metadata": {},
   "outputs": [],
   "source": [
    "training_sequences = tokenizer.texts_to_sequences(x_train)\n",
    "training_padded = pad_sequences(training_sequences,\n",
    "                                maxlen = max_len,\n",
    "                                padding = padding_type,\n",
    "                                truncating = trunc_type)"
   ]
  },
  {
   "cell_type": "code",
   "execution_count": 32,
   "metadata": {},
   "outputs": [],
   "source": [
    "testing_sequences = tokenizer.texts_to_sequences(x_test)\n",
    "testing_padded = pad_sequences(testing_sequences,\n",
    "                               maxlen = max_len,\n",
    "                               padding = padding_type,\n",
    "                               truncating = trunc_type)"
   ]
  },
  {
   "cell_type": "code",
   "execution_count": 33,
   "metadata": {},
   "outputs": [],
   "source": [
    "vocab_size = 5000\n",
    "embedding_dim = 16\n",
    "drop_value = 0.2\n",
    "n_dense = 24\n",
    "n_lstm = 128\n",
    "drop_lstm = 0.2\n",
    "model = Sequential()\n",
    "model.add(Embedding(vocab_size,\n",
    "                    embedding_dim,\n",
    "                    input_length = max_len))\n",
    "model.add(GlobalAveragePooling1D())\n",
    "model.add(Dense(24, activation='relu'))\n",
    "model.add(Dropout(drop_value))\n",
    "model.add(Dense(1, activation='sigmoid')) "
   ]
  },
  {
   "cell_type": "code",
   "execution_count": 34,
   "metadata": {},
   "outputs": [],
   "source": [
    "model2 = Sequential()\n",
    "model2.add(Embedding(vocab_size,\n",
    "                     embedding_dim,\n",
    "                     input_length = max_len))\n",
    "model2.add(Bidirectional(LSTM(n_lstm,\n",
    "                              return_sequences = False)))\n",
    "model2.add(Dropout(drop_lstm))\n",
    "model2.add(Dense(1, activation='sigmoid')) "
   ]
  },
  {
   "cell_type": "code",
   "execution_count": 35,
   "metadata": {},
   "outputs": [
    {
     "name": "stdout",
     "output_type": "stream",
     "text": [
      "Model: \"sequential_3\"\n",
      "_________________________________________________________________\n",
      " Layer (type)                Output Shape              Param #   \n",
      "=================================================================\n",
      " embedding_3 (Embedding)     (None, 1000, 16)          80000     \n",
      "                                                                 \n",
      " bidirectional_1 (Bidirectio  (None, 256)              148480    \n",
      " nal)                                                            \n",
      "                                                                 \n",
      " dropout_3 (Dropout)         (None, 256)               0         \n",
      "                                                                 \n",
      " dense_5 (Dense)             (None, 1)                 257       \n",
      "                                                                 \n",
      "=================================================================\n",
      "Total params: 228,737\n",
      "Trainable params: 228,737\n",
      "Non-trainable params: 0\n",
      "_________________________________________________________________\n"
     ]
    }
   ],
   "source": [
    "model2.summary() "
   ]
  },
  {
   "cell_type": "code",
   "execution_count": 36,
   "metadata": {},
   "outputs": [],
   "source": [
    "model2.compile(loss = 'binary_crossentropy',\n",
    "               optimizer = 'adam',\n",
    "               metrics=['accuracy']) "
   ]
  },
  {
   "cell_type": "code",
   "execution_count": 37,
   "metadata": {},
   "outputs": [
    {
     "name": "stdout",
     "output_type": "stream",
     "text": [
      "Epoch 1/4\n",
      "8/8 - 15s - loss: 0.6292 - accuracy: 0.8681 - val_loss: 0.3686 - val_accuracy: 0.9322 - 15s/epoch - 2s/step\n",
      "Epoch 2/4\n",
      "8/8 - 11s - loss: 0.4296 - accuracy: 0.9149 - val_loss: 0.2475 - val_accuracy: 0.9322 - 11s/epoch - 1s/step\n",
      "Epoch 3/4\n",
      "8/8 - 10s - loss: 0.3042 - accuracy: 0.9149 - val_loss: 0.2869 - val_accuracy: 0.9322 - 10s/epoch - 1s/step\n",
      "Epoch 4/4\n",
      "8/8 - 10s - loss: 0.3007 - accuracy: 0.9149 - val_loss: 0.2491 - val_accuracy: 0.9322 - 10s/epoch - 1s/step\n"
     ]
    }
   ],
   "source": [
    "num_epochs = 4\n",
    "early_stop = EarlyStopping(monitor = 'val_loss',\n",
    "                           patience = 2)\n",
    "history = model2.fit(training_padded,\n",
    "                     y_train,\n",
    "                     epochs = num_epochs,\n",
    "                     validation_data = (testing_padded, y_test),\n",
    "                     callbacks = [early_stop],\n",
    "                     verbose = 2) "
   ]
  },
  {
   "cell_type": "code",
   "execution_count": 38,
   "metadata": {},
   "outputs": [
    {
     "name": "stdout",
     "output_type": "stream",
     "text": [
      "2/2 [==============================] - 1s 258ms/step - loss: 0.2491 - accuracy: 0.9322\n",
      "Bi-LSTM model loss and accuracy: [0.2491304725408554, 0.9322034120559692] \n"
     ]
    }
   ],
   "source": [
    "print(f\"Bi-LSTM model loss and accuracy: {model2.evaluate(testing_padded, y_test)} \" ) "
   ]
  }
 ],
 "metadata": {
  "kernelspec": {
   "display_name": "Python 3",
   "language": "python",
   "name": "python3"
  },
  "language_info": {
   "codemirror_mode": {
    "name": "ipython",
    "version": 3
   },
   "file_extension": ".py",
   "mimetype": "text/x-python",
   "name": "python",
   "nbconvert_exporter": "python",
   "pygments_lexer": "ipython3",
   "version": "3.10.0"
  },
  "orig_nbformat": 4,
  "vscode": {
   "interpreter": {
    "hash": "7e0525e7d81319c603d96beda9e55eea03927155f26206d73f0747f6b5b4ea38"
   }
  }
 },
 "nbformat": 4,
 "nbformat_minor": 2
}
