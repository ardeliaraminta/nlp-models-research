{
 "cells": [
  {
   "cell_type": "code",
   "execution_count": 4,
   "metadata": {},
   "outputs": [
    {
     "name": "stdout",
     "output_type": "stream",
     "text": [
      "Matches in document 1:\n",
      "#2 3-surface MOD resin composite\n",
      "\n",
      "Matches in document 2:\n",
      "#2 3-surface MOD amalgam\n"
     ]
    }
   ],
   "source": [
    "import docx\n",
    "import re\n",
    "\n",
    "# Open the first Word document\n",
    "doc1 = docx.Document(\"Case 4 Answer Key.docx\")\n",
    "\n",
    "# Open the second Word document\n",
    "doc2 = docx.Document(\"Sample 1.docx\")\n",
    "\n",
    "# Extract text from the first document\n",
    "text1 = \" \".join([paragraph.text for paragraph in doc1.paragraphs])\n",
    "\n",
    "# Extract text from the second document\n",
    "text2 = \" \".join([paragraph.text for paragraph in doc2.paragraphs])\n",
    "\n",
    "# Define the regex pattern\n",
    "pattern = r\"#\\d+\\s+\\d+-surface\\s+MOD\\s+(?:amalgam|resin composite)\"\n",
    "\n",
    "# Find matches in the first document\n",
    "matches1 = re.findall(pattern, text1)\n",
    "\n",
    "# Find matches in the second document\n",
    "matches2 = re.findall(pattern, text2)\n",
    "\n",
    "# Print the matches\n",
    "print(\"Matches in document 1:\")\n",
    "for match in matches1:\n",
    "    print(match)\n",
    "\n",
    "print(\"\\nMatches in document 2:\")\n",
    "for match in matches2:\n",
    "    print(match)"
   ]
  },
  {
   "cell_type": "code",
   "execution_count": 14,
   "metadata": {},
   "outputs": [
    {
     "name": "stdout",
     "output_type": "stream",
     "text": [
      "Overall Results\n",
      "Total matches in document 1: 8\n",
      "Total matches in document 2: 2\n",
      "Overall percentage in document 2 compared to document 1: 25.00%\n"
     ]
    }
   ],
   "source": [
    "import docx\n",
    "import re\n",
    "\n",
    "# List of statements with regex patterns\n",
    "statements = [\n",
    "    r\"#\\d+\\s+\\d+-surface\\s+MOD\\s+(?:amalgam|resin composite)\",\n",
    "    r\"#9\\s+2-surface\\s+DL\\s+resin\\s+composite\",\n",
    "    r\"#11\\s+2-surface\\s+ML\\s+resin\\s+composite\",\n",
    "    r\"#21\\s+2-surface\\s+MO\\s+(?:amalgam|resin composite)\",\n",
    "    r\"#22\\s+2-surface\\s+DL\\s+resin\\s+composite\",\n",
    "    r\"#23\\s+2-surface\\s+ID\\s+resin\\s+composite\",\n",
    "    r\"#27\\s+2-surface\\s+DL\\s+resin\\s+composite\",\n",
    "    r\"#28\\s+core\\s+build\\s+up\",\n",
    "    r\"#28\\s+4\\s+surface\\s+PFM\\s+crown\"\n",
    "]\n",
    "\n",
    "# Open the first Word document\n",
    "doc1 = docx.Document(\"Case 4 Answer Key.docx\")\n",
    "\n",
    "# Open the second Word document\n",
    "doc2 = docx.Document(\"Sample 1.docx\")\n",
    "\n",
    "# Extract text from the first document\n",
    "text1 = \" \".join([paragraph.text for paragraph in doc1.paragraphs])\n",
    "\n",
    "# Extract text from the second document\n",
    "text2 = \" \".join([paragraph.text for paragraph in doc2.paragraphs])\n",
    "\n",
    "# Initialize counters\n",
    "total_matches1 = 0\n",
    "total_matches2 = 0\n",
    "\n",
    "# Iterate over the statements\n",
    "for statement in statements:\n",
    "    # Find matches in the first document\n",
    "    matches1 = re.findall(statement, text1)\n",
    "    count1 = len(matches1)\n",
    "    total_matches1 += count1\n",
    "    \n",
    "    # Find matches in the second document\n",
    "    matches2 = re.findall(statement, text2)\n",
    "    count2 = len(matches2)\n",
    "    total_matches2 += count2\n",
    "\n",
    "# Calculate the overall percentage of matches in document 2 compared to document 1\n",
    "overall_percentage = (total_matches2 / total_matches1) * 100 if total_matches1 != 0 else 0\n",
    "\n",
    "# Print the overall results\n",
    "print(\"Overall Results\")\n",
    "print(f\"Total matches in document 1: {total_matches1}\")\n",
    "print(f\"Total matches in document 2: {total_matches2}\")\n",
    "print(f\"Overall percentage in document 2 compared to document 1: {overall_percentage:.2f}%\")"
   ]
  }
 ],
 "metadata": {
  "kernelspec": {
   "display_name": "Python 3",
   "language": "python",
   "name": "python3"
  },
  "language_info": {
   "codemirror_mode": {
    "name": "ipython",
    "version": 3
   },
   "file_extension": ".py",
   "mimetype": "text/x-python",
   "name": "python",
   "nbconvert_exporter": "python",
   "pygments_lexer": "ipython3",
   "version": "3.10.7"
  },
  "orig_nbformat": 4
 },
 "nbformat": 4,
 "nbformat_minor": 2
}
